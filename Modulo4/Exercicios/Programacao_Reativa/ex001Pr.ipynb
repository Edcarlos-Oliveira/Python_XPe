{
 "cells": [
  {
   "cell_type": "code",
   "execution_count": 2,
   "metadata": {},
   "outputs": [],
   "source": [
    "# Importando os modulos:\n",
    "import rx\n",
    "import rx.operators as ops"
   ]
  },
  {
   "cell_type": "code",
   "execution_count": 9,
   "metadata": {},
   "outputs": [
    {
     "name": "stdout",
     "output_type": "stream",
     "text": [
      "on_next: 0\n",
      "on_next: 2\n",
      "on_next: 4\n",
      "on_completed\n",
      "Finalizado\n"
     ]
    }
   ],
   "source": [
    "# Criando a base de dados para interação:\n",
    "source = rx.from_iterable([1,2,3,4,5])\n",
    "\n",
    "# Definindo os parametros:\n",
    "disposable = source.pipe(\n",
    "    ops.map(lambda i:i - 1),\n",
    "    ops.filter(lambda i:i % 2 == 0),\n",
    ").subscribe(                                                        # A posição do '.subscribe' precisa ser na frente do parenteses\n",
    "    on_next = lambda i: print('on_next: {}'.format(i)),\n",
    "    on_completed = lambda: print('on_completed'),\n",
    "    on_error = lambda e: print('on_error: {}'.format(e))\n",
    ")\n",
    "disposable.dispose()\n",
    "print('Finalizado')\n",
    "\n"
   ]
  }
 ],
 "metadata": {
  "kernelspec": {
   "display_name": "Python 3",
   "language": "python",
   "name": "python3"
  },
  "language_info": {
   "codemirror_mode": {
    "name": "ipython",
    "version": 3
   },
   "file_extension": ".py",
   "mimetype": "text/x-python",
   "name": "python",
   "nbconvert_exporter": "python",
   "pygments_lexer": "ipython3",
   "version": "3.10.11"
  },
  "orig_nbformat": 4
 },
 "nbformat": 4,
 "nbformat_minor": 2
}
