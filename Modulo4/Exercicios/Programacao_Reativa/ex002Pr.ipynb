{
 "cells": [
  {
   "cell_type": "code",
   "execution_count": 1,
   "metadata": {},
   "outputs": [],
   "source": [
    "# Importando os modulos:\n",
    "from rx import create, disposable\n",
    "import rx"
   ]
  },
  {
   "cell_type": "code",
   "execution_count": null,
   "metadata": {},
   "outputs": [],
   "source": [
    "# Criando as funções que recebem o observer:\n",
    "def five_str(observer, scheduler):\n",
    "    observer.on_next('Alfa')\n",
    "    observer.on_next('Beta')\n",
    "    observer.on_next('Gama')\n",
    "    observer.on_next('Delta')\n",
    "    observer.on_next('Epsilon')\n",
    "    observer.on_completed()\n",
    "\n",
    "class PrintObserver(disposable.Disposable):\n",
    "\n",
    "    def on_next(self, value):\n",
    "        print(f'Recebido {value}')\n",
    "\n",
    "    def on_completed(self):\n",
    "        print('Fim!')\n",
    "\n",
    "    def on_error(self, error):\n",
    "        print(f'Erro identificado: {error}')\n",
    "\n",
    "# Cria o observable:\n",
    "source = create(five_str)\n",
    "\n",
    "# Define o observable:\n",
    "source.subscribe(PrintObserver())\n",
    "\n",
    "\n",
    "\n"
   ]
  },
  {
   "cell_type": "code",
   "execution_count": 6,
   "metadata": {},
   "outputs": [
    {
     "name": "stdout",
     "output_type": "stream",
     "text": [
      "Recebido Alfa\n",
      "Recebido Beta\n",
      "Recebido Gama\n",
      "Recebido Delta\n",
      "Recebido Epsilon\n",
      "Finalizado!\n"
     ]
    },
    {
     "data": {
      "text/plain": [
       "<rx.disposable.disposable.Disposable at 0x22aceee8070>"
      ]
     },
     "execution_count": 6,
     "metadata": {},
     "output_type": "execute_result"
    }
   ],
   "source": [
    "# Criando as funções de outra forma:\n",
    "from rx import of\n",
    "source = of('Alfa', 'Beta', 'Gama', 'Delta', 'Epsilon')\n",
    "source.subscribe(\n",
    "    on_next = lambda i: print(f'Recebido {i}'),\n",
    "    on_completed = lambda: print('Finalizado!'),\n",
    "    on_error = lambda e: print(f'Erro identificado: {e}')\n",
    ")\n"
   ]
  },
  {
   "cell_type": "code",
   "execution_count": 12,
   "metadata": {},
   "outputs": [
    {
     "name": "stdout",
     "output_type": "stream",
     "text": [
      "Instruções recebidas para comprar ação: APPL\n",
      "Instruções recebidas para comprar ação: TSLA\n",
      "Instruções recebidas para comprar ação: MSFT\n",
      "Todas as ordens de compra foram finalizadas!\n"
     ]
    },
    {
     "data": {
      "text/plain": [
       "<rx.disposable.disposable.Disposable at 0x22acfab1e10>"
      ]
     },
     "execution_count": 12,
     "metadata": {},
     "output_type": "execute_result"
    }
   ],
   "source": [
    "# Criando um 'observable' para compra de ações:\n",
    "from rx import disposable, create\n",
    "stocks = [\n",
    "    {'TCKR' : 'APPL', 'PRICE' : 200},\n",
    "    {'TCKR' : 'GOOG', 'PRICE' : 90},\n",
    "    {'TCKR' : 'TSLA', 'PRICE' : 120},\n",
    "    {'TCKR' : 'MSFT', 'PRICE' : 150},\n",
    "    {'TCKR' : 'MSFT', 'PRICE' : 70}\n",
    "]\n",
    "\n",
    "# Definindo as funções:\n",
    "def buy_events(observer, scheduler):\n",
    "    for stock in stocks:\n",
    "        if (stock['PRICE'] > 100):\n",
    "            observer.on_next(stock['TCKR'])\n",
    "    observer.on_completed()\n",
    "\n",
    "class StockObserver(disposable.Disposable):\n",
    "    def on_next(self, value):\n",
    "        print(f'Instruções recebidas para comprar ação: {value}')\n",
    "\n",
    "    def on_completed(self):\n",
    "        print(f'Todas as ordens de compra foram finalizadas!')\n",
    "\n",
    "    def on_error(self, error):\n",
    "        print(f'Erro identificado! {error}')\n",
    "\n",
    "# Cria o Observable:\n",
    "source = create(buy_events)\n",
    "\n",
    "# Define o Observable:\n",
    "source.subscribe(StockObserver())"
   ]
  },
  {
   "cell_type": "code",
   "execution_count": 11,
   "metadata": {},
   "outputs": [
    {
     "name": "stdout",
     "output_type": "stream",
     "text": [
      "Instruções recebidas para comprar ação: APPL\n",
      "Instruções recebidas para comprar ação: TSLA\n",
      "Instruções recebidas para comprar ação: MSFT\n",
      "Instrução de compra finalizada!\n"
     ]
    },
    {
     "data": {
      "text/plain": [
       "<rx.disposable.disposable.Disposable at 0x22aceeea920>"
      ]
     },
     "execution_count": 11,
     "metadata": {},
     "output_type": "execute_result"
    }
   ],
   "source": [
    "# Criando as funções de outra forma:\n",
    "from rx import disposable, create\n",
    "\n",
    "stocks = [\n",
    "    {'TCKR' : 'APPL', 'PRICE' : 200},\n",
    "    {'TCKR' : 'GOOG', 'PRICE' : 90},\n",
    "    {'TCKR' : 'TSLA', 'PRICE' : 120},\n",
    "    {'TCKR' : 'MSFT', 'PRICE' : 150},\n",
    "    {'TCKR' : 'MSFT', 'PRICE' : 70}\n",
    "]\n",
    "\n",
    "# Definindo as funções:\n",
    "def buy_events(observer, scheduler):\n",
    "    for stock in stocks:\n",
    "        if (stock['PRICE'] > 100):\n",
    "            observer.on_next(stock['TCKR'])\n",
    "    observer.on_completed()\n",
    "\n",
    "source = create(buy_events)\n",
    "source.subscribe(on_next = lambda value: print(f'Instruções recebidas para comprar ação: {value}'),\n",
    "                 on_completed = lambda: print('Instrução de compra finalizada!'),\n",
    "                 on_error = lambda e: print(f'Erro identificado: {e}'))\n"
   ]
  },
  {
   "cell_type": "code",
   "execution_count": 16,
   "metadata": {},
   "outputs": [
    {
     "name": "stdout",
     "output_type": "stream",
     "text": [
      "Recebido: 5\n",
      "Recebido: 5\n",
      "Recebido: 5\n",
      "Recebido: 6\n"
     ]
    },
    {
     "data": {
      "text/plain": [
       "<rx.disposable.disposable.Disposable at 0x22acf2ab7f0>"
      ]
     },
     "execution_count": 16,
     "metadata": {},
     "output_type": "execute_result"
    }
   ],
   "source": [
    "# Criando os metodos com 'pipe':\n",
    "from rx import of, operators as op\n",
    "\n",
    "of('alpha', 'Beta', 'Gamma', 'Delta', 'Epslon').pipe(\n",
    "    op.map(lambda s: len(s)),\n",
    "    op.filter(lambda i: i >= 5)\n",
    ").subscribe(lambda value: print(f'Recebido: {value}'))\n"
   ]
  },
  {
   "cell_type": "code",
   "execution_count": 15,
   "metadata": {},
   "outputs": [
    {
     "name": "stdout",
     "output_type": "stream",
     "text": [
      "Recebido: 5\n",
      "Recebido: 5\n",
      "Recebido: 5\n",
      "Recebido: 6\n"
     ]
    },
    {
     "data": {
      "text/plain": [
       "<rx.disposable.disposable.Disposable at 0x22acf2ab2b0>"
      ]
     },
     "execution_count": 15,
     "metadata": {},
     "output_type": "execute_result"
    }
   ],
   "source": [
    "# Criando os metodos de outra maneira:\n",
    "source = of('alpha', 'Beta', 'Gamma', 'Delta', 'Epslon')\n",
    "\n",
    "composed = source.pipe(\n",
    "    op.map(lambda s: len(s)),\n",
    "    op.filter(lambda i: i >= 5)\n",
    ")\n",
    "composed.subscribe(lambda value: print(f'Recebido: {value}'))"
   ]
  },
  {
   "cell_type": "code",
   "execution_count": 17,
   "metadata": {},
   "outputs": [
    {
     "name": "stdout",
     "output_type": "stream",
     "text": [
      "Recebido: 5\n",
      "Recebido: 5\n",
      "Recebido: 5\n",
      "Recebido: 6\n"
     ]
    },
    {
     "data": {
      "text/plain": [
       "<rx.disposable.disposable.Disposable at 0x22acfa40ca0>"
      ]
     },
     "execution_count": 17,
     "metadata": {},
     "output_type": "execute_result"
    }
   ],
   "source": [
    "# Fazendo a contagem com a criação de uma função:\n",
    "import rx\n",
    "from rx import operators as ops\n",
    "\n",
    "def lenght_5():\n",
    "    return rx.pipe(\n",
    "        op.map(lambda s: len(s)),\n",
    "        op.filter(lambda i: i >= 5)\n",
    "    )\n",
    "\n",
    "rx.of('alpha', 'Beta', 'Gamma', 'Delta', 'Epslon').pipe(\n",
    "lenght_5()\n",
    ").subscribe(lambda value: print(f'Recebido: {value}'))\n"
   ]
  }
 ],
 "metadata": {
  "kernelspec": {
   "display_name": "Python 3",
   "language": "python",
   "name": "python3"
  },
  "language_info": {
   "codemirror_mode": {
    "name": "ipython",
    "version": 3
   },
   "file_extension": ".py",
   "mimetype": "text/x-python",
   "name": "python",
   "nbconvert_exporter": "python",
   "pygments_lexer": "ipython3",
   "version": "3.10.11"
  },
  "orig_nbformat": 4
 },
 "nbformat": 4,
 "nbformat_minor": 2
}
