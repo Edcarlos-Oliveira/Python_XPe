{
 "cells": [
  {
   "cell_type": "code",
   "execution_count": 2,
   "metadata": {},
   "outputs": [
    {
     "name": "stdout",
     "output_type": "stream",
     "text": [
      "Você comprou 1 pão(es).\\ Ainda temos 9 em estoque.\n",
      "Você comprou 2 pão(es).\\ Ainda temos 7 em estoque.\n",
      "Você comprou 3 pão(es).\\ Ainda temos 4 em estoque.\n",
      "Você comprou 4 pão(es).\\ Ainda temos 0 em estoque.\n",
      "Não temos pães suficientes\n",
      "Não temos pães suficientes\n",
      "Não temos pães suficientes\n",
      "Não temos pães suficientes\n",
      "Não temos pães suficientes\n",
      "Não temos pães suficientes\n",
      "Não temos pães suficientes\n",
      "Não temos pães suficientes\n",
      "Não temos pães suficientes\n",
      "Não temos pães suficientes\n",
      "Não temos pães suficientes\n",
      "Não temos pães suficientes\n",
      "Não temos pães suficientes\n",
      "Não temos pães suficientes\n",
      "Não temos pães suficientes\n"
     ]
    }
   ],
   "source": [
    "# Importando os modulos:\n",
    "from time import sleep\n",
    "from threading import Thread\n",
    "from threading import Lock\n",
    "\n",
    "# Utilizando 'Lock' nos sistemas com 'threading':\n",
    "class Paes:\n",
    "    def __init__(self, estoque):\n",
    "        self.estoque = estoque\n",
    "        self.lock = Lock()             # Trava o estoque até que a compra seja realizada\n",
    "\n",
    "    def comprar(self, qtd):\n",
    "        self.lock.acquire()            # Trava a compra \n",
    "        if self.estoque < qtd:\n",
    "            print('Não temos pães suficientes')\n",
    "            self.lock.release()        # Faz a liberação para compra novamente \n",
    "            return\n",
    "        sleep(1)\n",
    "\n",
    "        self.estoque -= qtd\n",
    "        print(f'Você comprou {qtd} pão(es).\\ Ainda temos {self.estoque} em estoque.')\n",
    "        self.lock.release()  # Faz a liberação para compra novamente\n",
    "if __name__ == '__main__':\n",
    "    paes = Paes(10)\n",
    "    for i in range(1, 20):\n",
    "        t = Thread(target = paes.comprar, args = (i,)) # A virgula no final é essencial por ser uma tupla.\n",
    "        t.start()\n"
   ]
  }
 ],
 "metadata": {
  "kernelspec": {
   "display_name": "Python 3",
   "language": "python",
   "name": "python3"
  },
  "language_info": {
   "codemirror_mode": {
    "name": "ipython",
    "version": 3
   },
   "file_extension": ".py",
   "mimetype": "text/x-python",
   "name": "python",
   "nbconvert_exporter": "python",
   "pygments_lexer": "ipython3",
   "version": "3.10.11"
  },
  "orig_nbformat": 4
 },
 "nbformat": 4,
 "nbformat_minor": 2
}
