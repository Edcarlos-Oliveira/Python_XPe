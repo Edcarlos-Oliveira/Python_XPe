{
 "cells": [
  {
   "cell_type": "code",
   "execution_count": 4,
   "metadata": {},
   "outputs": [
    {
     "name": "stdout",
     "output_type": "stream",
     "text": [
      "Olá bootcampers\n",
      "0 1 2 3 4 5 6 7 8 9 IGTI\n"
     ]
    }
   ],
   "source": [
    "from time import sleep\n",
    "print('Olá bootcampers')\n",
    "\n",
    "for i in range(10):\n",
    "    print(f'{i}', end=' ')\n",
    "    sleep(1)\n",
    "print('IGTI')"
   ]
  },
  {
   "cell_type": "code",
   "execution_count": 8,
   "metadata": {},
   "outputs": [
    {
     "name": "stdout",
     "output_type": "stream",
     "text": [
      "0 1 IGTI Thread 4\n",
      "2 3 4 IGTI Thread 1\n",
      "5 6 7 IGTI Thread 2\n",
      "8 9 10 11 12 13 14 15 16 IGTI Thread 3\n",
      "17 18 19 "
     ]
    }
   ],
   "source": [
    "# Refazendo o bloco usando 'Thread':\n",
    "from threading import Thread\n",
    "\n",
    "class IGThread(Thread):\n",
    "    def __init__(self, texto, tempo):\n",
    "        self.texto = texto\n",
    "        self.tempo = tempo\n",
    "\n",
    "        super().__init__()\n",
    "    \n",
    "    def run(self):\n",
    "        sleep(self.tempo)\n",
    "        print(self.texto)\n",
    "\n",
    "t1 = IGThread('IGTI Thread 1', 5)\n",
    "t1.start()\n",
    "\n",
    "t2 = IGThread('IGTI Thread 2', 8)\n",
    "t2.start()\n",
    "\n",
    "t3 = IGThread('IGTI Thread 3', 17)\n",
    "t3.start()\n",
    "\n",
    "t4 = IGThread('IGTI Thread 4', 2)\n",
    "t4.start()\n",
    "\n",
    "for i in range(20):\n",
    "    print(f'{i}', end=' ')\n",
    "    sleep(1)\n"
   ]
  }
 ],
 "metadata": {
  "kernelspec": {
   "display_name": "Python 3",
   "language": "python",
   "name": "python3"
  },
  "language_info": {
   "codemirror_mode": {
    "name": "ipython",
    "version": 3
   },
   "file_extension": ".py",
   "mimetype": "text/x-python",
   "name": "python",
   "nbconvert_exporter": "python",
   "pygments_lexer": "ipython3",
   "version": "3.10.11"
  },
  "orig_nbformat": 4
 },
 "nbformat": 4,
 "nbformat_minor": 2
}
