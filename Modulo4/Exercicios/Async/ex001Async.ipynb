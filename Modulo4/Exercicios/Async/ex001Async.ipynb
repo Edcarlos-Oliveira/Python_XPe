{
 "cells": [
  {
   "cell_type": "code",
   "execution_count": 23,
   "metadata": {},
   "outputs": [],
   "source": [
    "# Importação dos modulos necessários:\n",
    "import nest_asyncio\n",
    "nest_asyncio.apply()\n",
    "import asyncio\n",
    "from multiprocessing import Pool, cpu_count\n",
    "import concurrent.futures\n",
    "import sys\n",
    "import time\n",
    "from enum import Enum\n",
    "import aiohttp\n",
    "import requests"
   ]
  },
  {
   "cell_type": "code",
   "execution_count": 24,
   "metadata": {},
   "outputs": [],
   "source": [
    "# Criando o 'get_ids' da cervejaria:\n",
    "def get_ids_cervejarias():\n",
    "    r = requests.get('https://api.openbrewerydb.org/breweries')\n",
    "    if r.status_code == 200:\n",
    "        return [r['id'] for r in r.json()]"
   ]
  },
  {
   "cell_type": "code",
   "execution_count": 25,
   "metadata": {},
   "outputs": [],
   "source": [
    "# Coletando os 'ids' da cervejaria:\n",
    "def get_cervejaria(id_c):\n",
    "    r = requests.get(f'https://api.openbrewerydb.org/breweries/{id_c}')\n",
    "    if r.status_code == 200:\n",
    "        print(r.json())"
   ]
  },
  {
   "cell_type": "code",
   "execution_count": 7,
   "metadata": {},
   "outputs": [],
   "source": [
    "# Requerendo e coletando os dados via 'async':\n",
    "async def get_cervejaria_async(id_c, session):\n",
    "    async with session.get(f'https://api.openbrewerydb.org/breweries/{id_c}') as response:\n",
    "        print(await response.json())\n"
   ]
  },
  {
   "cell_type": "code",
   "execution_count": 10,
   "metadata": {},
   "outputs": [],
   "source": [
    "# Fazendo o processamento dos dados via 'aiohttp':\n",
    "async def processar_async(ids):\n",
    "    coros = []\n",
    "    async with aiohttp.ClientSession() as session:\n",
    "        for id_c in ids:\n",
    "            coros.append(get_cervejaria_async(id_c, session))\n",
    "        await asyncio.gather(*coros)\n"
   ]
  },
  {
   "cell_type": "code",
   "execution_count": 12,
   "metadata": {},
   "outputs": [],
   "source": [
    "# Criando o get da cervejaria de forma manual:\n",
    "async def get_cervejaria_async_manual(id_c):\n",
    "    loop = asyncio.get_running_loop()\n",
    "    return await loop.run_in_executor(None, get_cervejaria, id_c)"
   ]
  },
  {
   "cell_type": "code",
   "execution_count": 16,
   "metadata": {},
   "outputs": [],
   "source": [
    "# Criando os tipos de execução para cada processo:\n",
    "class TipoExecucao(Enum):\n",
    "    UM_PROCESSO = 1\n",
    "    VARIAS_THREADS = 2\n",
    "    ASYNCIO_COM_LIB_HTTP = 3\n"
   ]
  },
  {
   "cell_type": "code",
   "execution_count": null,
   "metadata": {},
   "outputs": [],
   "source": [
    "# Iniciando as execuções:\n",
    "if __name__ == '__main__':\n",
    "    started = time.time()\n",
    "\n",
    "    tipo_execucao = TipoExecucao.ASYNCIO_COM_LIB_HTTP\n",
    "    cores = cpu_count()\n",
    "\n",
    "    ids_cervejarias = get_ids_cervejarias()\n",
    "\n",
    "    if TipoExecucao.UM_PROCESSO == tipo_execucao:\n",
    "        # Usando somente um processo\n",
    "        for id_cervejaria in ids_cervejarias:\n",
    "            get_cervejaria(id_cervejaria)\n",
    "\n",
    "    elif TipoExecucao.VARIAS_THREADS == tipo_execucao:\n",
    "        # Usando várias threads\n",
    "        with concurrent.futures.ThreadPoolExecutor(cores) as thp:\n",
    "            thp.map(get_cervejaria, ids_cervejarias)\n",
    "    \n",
    "    elif TipoExecucao.ASYNCIO_COM_LIB_HTTP == tipo_execucao:\n",
    "        # Usando o asyncio\n",
    "        event_loop = asyncio.get_event_loop()\n",
    "        task = []\n",
    "        event_loop.run_until_complete(processar_async(ids_cervejarias))\n",
    "\n",
    "    elif TipoExecucao.ASCYNCIO_MANUAL == tipo_execucao:\n",
    "        # Usando asyncio manual\n",
    "        event_loop = asyncio.get_event_loop()\n",
    "        tasks = []\n",
    "\n",
    "        for id_cervejaria in ids_cervejarias:\n",
    "            tasks.append(get_cervejaria_async_manual(id_cervejaria))\n",
    "        event_loop.run_until_complete(asyncio.wait(tasks))\n",
    "    elapsed = time.time()\n",
    "    print('Time taken :', elapsed - started)"
   ]
  }
 ],
 "metadata": {
  "kernelspec": {
   "display_name": "Python 3",
   "language": "python",
   "name": "python3"
  },
  "language_info": {
   "codemirror_mode": {
    "name": "ipython",
    "version": 3
   },
   "file_extension": ".py",
   "mimetype": "text/x-python",
   "name": "python",
   "nbconvert_exporter": "python",
   "pygments_lexer": "ipython3",
   "version": "3.10.11"
  },
  "orig_nbformat": 4
 },
 "nbformat": 4,
 "nbformat_minor": 2
}
